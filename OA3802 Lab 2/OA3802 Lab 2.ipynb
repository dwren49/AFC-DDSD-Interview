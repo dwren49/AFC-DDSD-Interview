{
 "cells": [
  {
   "cell_type": "markdown",
   "metadata": {},
   "source": [
    "## Lab Scenario\n",
    "The SECNAV’s Strategic Initiative Group (SIG) chief (3-star) took much interest in your recent AIS analysis work (i.e. Lab1). The SIG is currently leading a new effort to better understand global maritime traffic patterns and reached out to the staff data scientist (i.e. You) for help. Specifically, the SIG wants to determine if certain ‘open-source’ data can serve as a potential proxy for characterizing maritime participatorial behavior of particular countries/territories, especially entities classified under a Flag of Convenience (FOC). Given that more than 80% of the world’s goods are transported by sea, it is essential to constantly improve our global maritime situational awareness and ensure global trade routes are protected and transparent.\n",
    "\n",
    "## Tasks\n",
    "\n",
    "#### Task 1: Inventory and Identify Files (10 points)\n",
    "Determine the explicit file ‘type’ for the codes, source and tracker files. You will report the individual magic number for these three unknown files in the form of a Hex signature as well as the applicable file extension.\n",
    "\n",
    "#### Task 2: Extract and Enrich (10 points)\n",
    "Extract the ISO-3 code from the codes file for each country/territory listed in the primary_data.csv file and enrich the primary_data file by adding a new ISO-3 column.\n",
    "\n",
    "#### Task 3: Scrape and Enrich: ITU Maritime Identification Digits (15 points)\n",
    "Identify enriching each country listed in the primary_data.csv file with an associated MID as an essential task.\n",
    "\n",
    "#### Task 4: Scrape and Enrich: Your Decision (15 points)\n",
    "Seek out an additional data source to scrape and enrich the primary_data.csv file with a new column field.\n",
    "\n",
    "#### Task 5: Flag of Convenience Analysis (40 points)\n",
    "For this task, you will acquire AIS data (see Lab1) for the following range of dates: 1-3 NOV 2018. You will limit your analysis effort to the top 5 FOC countries/territories: Panama, Marshall Islands, Liberia, Hong Kong and Singapore. Your goal is to create an activity and vessel ratio.\n",
    "\n",
    "The activity_ratio will capture the total number of AIS pings for a given Top-5 FOC country within the captured AIS data date range and divide it by that country’s merchant_vessel_count field provided in the primary_data.csv file.\n",
    "\n",
    "The vessel_ratio will identify the total unique vessel count for a given Top-5 FOC country producing AIS pings within the captured AIS data date range and divide it by that country’s merchant_vessel_count field provided in the primary_data.csv file.\n",
    "\n",
    "## Tutorial\n",
    "\n",
    "#### Task 1\n",
    "\n",
    "As this type of exchange will most assuredly occur in the near future, the `bash` method `xxd` allows a user to identify what type of file it is using its Hex signature.  The following [link](https://en.wikipedia.org/wiki/List_of_file_signatures) provides a reference to the various Hex signatures currently available.  The command `|` redirects  a program's output as input to another program and `head -1` looks at only the first entry.\n"
   ]
  },
  {
   "cell_type": "markdown",
   "metadata": {},
   "source": [
    "-  `xxd codes | head -1`\n",
    "-  `xxd source | head -1`\n",
    "-  `xxd tracker | head -1`"
   ]
  },
  {
   "cell_type": "markdown",
   "metadata": {},
   "source": [
    "-  The magic number for 'codes' is 3c3f 786d 6c20, which is .XML.\n",
    "-  The magic number for 'source' is 2550 4446 2d, which is .PDF.\n",
    "-  The magic number for 'tracker' is D0CF 11E0 A1B1 1AE1, which can be a doc, xls, ppt, or msg."
   ]
  },
  {
   "cell_type": "markdown",
   "metadata": {},
   "source": [
    "#### Task 2\n",
    "\n",
    "Now that we've determined what the file types are, we need to begin the data import and merging operations.  Below are the libraries that we need to execute this notebook."
   ]
  },
  {
   "cell_type": "code",
   "execution_count": 1,
   "metadata": {},
   "outputs": [
    {
     "name": "stderr",
     "output_type": "stream",
     "text": [
      "C:\\Users\\david\\anaconda3\\lib\\site-packages\\fuzzywuzzy\\fuzz.py:11: UserWarning: Using slow pure-python SequenceMatcher. Install python-Levenshtein to remove this warning\n",
      "  warnings.warn('Using slow pure-python SequenceMatcher. Install python-Levenshtein to remove this warning')\n"
     ]
    }
   ],
   "source": [
    "import pandas as pd\n",
    "import xml.etree.ElementTree as ET\n",
    "import requests\n",
    "from bs4 import BeautifulSoup\n",
    "import re\n",
    "from fuzzywuzzy import fuzz\n",
    "from fuzzywuzzy import process\n",
    "import numpy as np \n",
    "import matplotlib.pyplot as plt  \n",
    "\n",
    "# Code sourced from: https://stackoverflow.com/questions/43102734/format-a-number-with-commas-to-separate-thousands-in-python\n",
    "pd.options.display.float_format = '{:,.2f}'.format"
   ]
  },
  {
   "cell_type": "markdown",
   "metadata": {},
   "source": [
    "We will first read in the `XML` file to create a list of lists that contains the various ISO-2 and ISO-3 codes for each country.  The code then creates a data frame using these columns.  See OA3801 Lab 4 for reference.  Once this is complete, we will read in our primary data source.  As we'll see in future code chunks, there are a small number of countries that will require manual manipulation to ensure a 'fuzzy merge.'"
   ]
  },
  {
   "cell_type": "code",
   "execution_count": 2,
   "metadata": {},
   "outputs": [
    {
     "name": "stderr",
     "output_type": "stream",
     "text": [
      "<ipython-input-2-baae1971ed23>:26: SettingWithCopyWarning: \n",
      "A value is trying to be set on a copy of a slice from a DataFrame\n",
      "\n",
      "See the caveats in the documentation: https://pandas.pydata.org/pandas-docs/stable/user_guide/indexing.html#returning-a-view-versus-a-copy\n",
      "  ships_df.iloc[115]['iso_2'] = 'NA'\n",
      "<ipython-input-2-baae1971ed23>:27: SettingWithCopyWarning: \n",
      "A value is trying to be set on a copy of a slice from a DataFrame\n",
      "\n",
      "See the caveats in the documentation: https://pandas.pydata.org/pandas-docs/stable/user_guide/indexing.html#returning-a-view-versus-a-copy\n",
      "  ships_df.iloc[115]['iso_3'] = 'NAM'\n",
      "C:\\Users\\david\\anaconda3\\lib\\site-packages\\pandas\\core\\indexing.py:671: SettingWithCopyWarning: \n",
      "A value is trying to be set on a copy of a slice from a DataFrame\n",
      "\n",
      "See the caveats in the documentation: https://pandas.pydata.org/pandas-docs/stable/user_guide/indexing.html#returning-a-view-versus-a-copy\n",
      "  self._setitem_with_indexer(indexer, value)\n"
     ]
    },
    {
     "data": {
      "text/html": [
       "<div>\n",
       "<style scoped>\n",
       "    .dataframe tbody tr th:only-of-type {\n",
       "        vertical-align: middle;\n",
       "    }\n",
       "\n",
       "    .dataframe tbody tr th {\n",
       "        vertical-align: top;\n",
       "    }\n",
       "\n",
       "    .dataframe thead th {\n",
       "        text-align: right;\n",
       "    }\n",
       "</style>\n",
       "<table border=\"1\" class=\"dataframe\">\n",
       "  <thead>\n",
       "    <tr style=\"text-align: right;\">\n",
       "      <th></th>\n",
       "      <th>country</th>\n",
       "      <th>merchant_vessel_count</th>\n",
       "      <th>iso_2</th>\n",
       "      <th>iso3</th>\n",
       "    </tr>\n",
       "  </thead>\n",
       "  <tbody>\n",
       "    <tr>\n",
       "      <th>107</th>\n",
       "      <td>Albania</td>\n",
       "      <td>57</td>\n",
       "      <td>AL</td>\n",
       "      <td>ALB</td>\n",
       "    </tr>\n",
       "    <tr>\n",
       "      <th>80</th>\n",
       "      <td>Algeria</td>\n",
       "      <td>110</td>\n",
       "      <td>DZ</td>\n",
       "      <td>DZA</td>\n",
       "    </tr>\n",
       "    <tr>\n",
       "      <th>109</th>\n",
       "      <td>Angola</td>\n",
       "      <td>55</td>\n",
       "      <td>AO</td>\n",
       "      <td>AGO</td>\n",
       "    </tr>\n",
       "    <tr>\n",
       "      <th>170</th>\n",
       "      <td>Anguilla</td>\n",
       "      <td>1</td>\n",
       "      <td>AI</td>\n",
       "      <td>AIA</td>\n",
       "    </tr>\n",
       "    <tr>\n",
       "      <th>24</th>\n",
       "      <td>Antigua and Barbuda</td>\n",
       "      <td>964</td>\n",
       "      <td>AG</td>\n",
       "      <td>ATG</td>\n",
       "    </tr>\n",
       "    <tr>\n",
       "      <th>...</th>\n",
       "      <td>...</td>\n",
       "      <td>...</td>\n",
       "      <td>...</td>\n",
       "      <td>...</td>\n",
       "    </tr>\n",
       "    <tr>\n",
       "      <th>43</th>\n",
       "      <td>Vanuatu</td>\n",
       "      <td>421</td>\n",
       "      <td>VU</td>\n",
       "      <td>VUT</td>\n",
       "    </tr>\n",
       "    <tr>\n",
       "      <th>56</th>\n",
       "      <td>Venezuela</td>\n",
       "      <td>267</td>\n",
       "      <td>VE</td>\n",
       "      <td>VEN</td>\n",
       "    </tr>\n",
       "    <tr>\n",
       "      <th>12</th>\n",
       "      <td>Vietnam</td>\n",
       "      <td>1818</td>\n",
       "      <td>VN</td>\n",
       "      <td>VNM</td>\n",
       "    </tr>\n",
       "    <tr>\n",
       "      <th>126</th>\n",
       "      <td>Yemen</td>\n",
       "      <td>31</td>\n",
       "      <td>YE</td>\n",
       "      <td>YEM</td>\n",
       "    </tr>\n",
       "    <tr>\n",
       "      <th>173</th>\n",
       "      <td>Zambia</td>\n",
       "      <td>1</td>\n",
       "      <td>ZM</td>\n",
       "      <td>ZMB</td>\n",
       "    </tr>\n",
       "  </tbody>\n",
       "</table>\n",
       "<p>177 rows × 4 columns</p>\n",
       "</div>"
      ],
      "text/plain": [
       "                 country  merchant_vessel_count iso_2 iso3\n",
       "107              Albania                     57    AL  ALB\n",
       "80               Algeria                    110    DZ  DZA\n",
       "109               Angola                     55    AO  AGO\n",
       "170             Anguilla                      1    AI  AIA\n",
       "24   Antigua and Barbuda                    964    AG  ATG\n",
       "..                   ...                    ...   ...  ...\n",
       "43               Vanuatu                    421    VU  VUT\n",
       "56             Venezuela                    267    VE  VEN\n",
       "12               Vietnam                   1818    VN  VNM\n",
       "126                Yemen                     31    YE  YEM\n",
       "173               Zambia                      1    ZM  ZMB\n",
       "\n",
       "[177 rows x 4 columns]"
      ]
     },
     "execution_count": 2,
     "metadata": {},
     "output_type": "execute_result"
    }
   ],
   "source": [
    "tree = ET.parse('codes.xml')\n",
    "root = tree.getroot()\n",
    "\n",
    "iso_3166_list = [] # Empty list for storage\n",
    "for child in root: # Iterates over the length of the XML document\n",
    "    # Appends the country name, ISO-2, and ISO-3 codes as a list to the iso_3166_list, which creates a list of lists\n",
    "    iso_3166_list.append([child.attrib['alpha-2'], child.attrib['alpha-3']])\n",
    "    \n",
    "iso_3166_df = pd.DataFrame(iso_3166_list) # Creates a DataFrame with the iso_3166_list\n",
    "iso_3166_df.columns = ['iso_2', 'iso3'] # Creates country names\n",
    "\n",
    "ships_df = pd.read_csv('primary_data.csv') #Reads in the CSV\n",
    "\n",
    "# We want to keep all info, even if the row doesn't have a matching key in the opposite frame\n",
    "ships_df = pd.merge(ships_df, iso_3166_df, on = 'iso_2', how = 'left')\n",
    "\n",
    "# Name changes for future merge operations\n",
    "ships_df.iloc[176,0] = \"Lao People's Democratic Republic\" # Laos to Lao People's Democratic Republic \n",
    "ships_df.iloc[86,0] = 'Myanmar' # Burma to Myanmar\n",
    "ships_df.iloc[4,0] = 'United States of America' # United States to United States of America\n",
    "\n",
    "# Sort ships by country name\n",
    "ships_df = ships_df.sort_values(by = 'country') \n",
    "\n",
    "# Update Namibia's information \n",
    "ships_df.iloc[115]['iso_2'] = 'NA'\n",
    "ships_df.iloc[115]['iso_3'] = 'NAM'\n",
    "\n",
    "# Print a copy of the data frame\n",
    "ships_df"
   ]
  },
  {
   "cell_type": "markdown",
   "metadata": {},
   "source": [
    "#### Task 3\n",
    "\n",
    "Since we're interested in applying web scraping skills to gather Maritime Identification Digits (MID), the following [link](https://pandas.pydata.org/pandas-docs/stable/reference/api/pandas.read_html.html) provides documentation on the `pd.read_html()` method.  One important note is that the `pd.read_html()` method reads in all tables so you must select and access the appropriate one.  In this case, the link only contained one table so we can apply `table[0]` to select it.  As conducted in Task 2, we need to manipulate a select number of countries so `fuzzy_merge()` may execute successfully.\n",
    "\n",
    "A regular expression (shortened as regex or regexp; also referred to as rational expression is a sequence of characters that define a search pattern. Usually such patterns are used by string-searching algorithms for \"find\" or \"find and replace\" operations on strings, or for input validation. It is a technique developed in theoretical computer science and formal language theory [Source](https://en.wikipedia.org/wiki/Regular_expression). \n",
    "\n",
    "Regular expression can be challenging to work with and often require patience.  A regular \"checker\" can save time and stress and should be used when building the code [link](https://regex101.com/)."
   ]
  },
  {
   "cell_type": "code",
   "execution_count": 3,
   "metadata": {
    "scrolled": true
   },
   "outputs": [
    {
     "data": {
      "text/html": [
       "<div>\n",
       "<style scoped>\n",
       "    .dataframe tbody tr th:only-of-type {\n",
       "        vertical-align: middle;\n",
       "    }\n",
       "\n",
       "    .dataframe tbody tr th {\n",
       "        vertical-align: top;\n",
       "    }\n",
       "\n",
       "    .dataframe thead th {\n",
       "        text-align: right;\n",
       "    }\n",
       "</style>\n",
       "<table border=\"1\" class=\"dataframe\">\n",
       "  <thead>\n",
       "    <tr style=\"text-align: right;\">\n",
       "      <th></th>\n",
       "      <th>country</th>\n",
       "      <th>Codes</th>\n",
       "    </tr>\n",
       "  </thead>\n",
       "  <tbody>\n",
       "    <tr>\n",
       "      <th>0</th>\n",
       "      <td>Adelie Land</td>\n",
       "      <td>501</td>\n",
       "    </tr>\n",
       "    <tr>\n",
       "      <th>1</th>\n",
       "      <td>Afghanistan</td>\n",
       "      <td>401</td>\n",
       "    </tr>\n",
       "    <tr>\n",
       "      <th>2</th>\n",
       "      <td>Alaska</td>\n",
       "      <td>303</td>\n",
       "    </tr>\n",
       "    <tr>\n",
       "      <th>3</th>\n",
       "      <td>Albania</td>\n",
       "      <td>201</td>\n",
       "    </tr>\n",
       "    <tr>\n",
       "      <th>4</th>\n",
       "      <td>Algeria</td>\n",
       "      <td>605</td>\n",
       "    </tr>\n",
       "    <tr>\n",
       "      <th>...</th>\n",
       "      <td>...</td>\n",
       "      <td>...</td>\n",
       "    </tr>\n",
       "    <tr>\n",
       "      <th>232</th>\n",
       "      <td>Vietnam</td>\n",
       "      <td>574</td>\n",
       "    </tr>\n",
       "    <tr>\n",
       "      <th>233</th>\n",
       "      <td>Wallis and Futuna Islands</td>\n",
       "      <td>578</td>\n",
       "    </tr>\n",
       "    <tr>\n",
       "      <th>234</th>\n",
       "      <td>Yemen</td>\n",
       "      <td>473; 475</td>\n",
       "    </tr>\n",
       "    <tr>\n",
       "      <th>235</th>\n",
       "      <td>Zambia</td>\n",
       "      <td>678</td>\n",
       "    </tr>\n",
       "    <tr>\n",
       "      <th>236</th>\n",
       "      <td>Zimbabwe</td>\n",
       "      <td>679</td>\n",
       "    </tr>\n",
       "  </tbody>\n",
       "</table>\n",
       "<p>237 rows × 2 columns</p>\n",
       "</div>"
      ],
      "text/plain": [
       "                       country     Codes\n",
       "0                  Adelie Land       501\n",
       "1                  Afghanistan       401\n",
       "2                       Alaska       303\n",
       "3                      Albania       201\n",
       "4                      Algeria       605\n",
       "..                         ...       ...\n",
       "232                    Vietnam       574\n",
       "233  Wallis and Futuna Islands       578\n",
       "234                      Yemen  473; 475\n",
       "235                     Zambia       678\n",
       "236                   Zimbabwe       679\n",
       "\n",
       "[237 rows x 2 columns]"
      ]
     },
     "execution_count": 3,
     "metadata": {},
     "output_type": "execute_result"
    }
   ],
   "source": [
    "# String designating website\n",
    "url = 'https://en.wikipedia.org/wiki/Maritime_identification_digits'\n",
    "\n",
    "# Read the table using pandas.read_html method\n",
    "table = pd.read_html(url)\n",
    "\n",
    "# Select the first table in the list\n",
    "table = table[0]\n",
    "\n",
    "# Rename the columns\n",
    "table.rename(columns = {'Country': 'country'}, inplace = True)\n",
    "\n",
    "# Name changes for future merge operations\n",
    "table.iloc[58,0] = 'Curacao' # Change 'Curaçao - Netherlands' to Curacao\n",
    "table.iloc[51,0] = 'Congo, Republic of the\t' # Change Congo (Republic of the ) to Congo, Republic of the\n",
    "\n",
    "# Regex to eliminate the '(Republic of ______)' from the string for merge operations\n",
    "table['country'] = table['country'].str.replace(r'(\\s\\(.*\\))', \"\")\n",
    "\n",
    "# Sort ships by country name\n",
    "table = table.sort_values(by = 'country') \n",
    "\n",
    "# Print a copy of the table\n",
    "table"
   ]
  },
  {
   "cell_type": "markdown",
   "metadata": {},
   "source": [
    "Executing a merge with similar but different nouns can be difficult.  One method is to develop a regex that matches every possible instance, which can be quite tedious and time consuming as the previous code exemplified that a simple matching pattern that took a disproportionate amount of time to craft.  Another requires manual manipulation of each country.  While this is an option on smaller data sets, it is not scalable for larger data frames.\n",
    "\n",
    "One method is to apply regex to the MID data that strips away the (...) and you're left with just countries.  The fuzzy wuzzy package straight out of the box matched all but five countries: Burma (aka Myanmar), Congo, Republic of, Curacao (due to non-English spelling),  Guam (doesn't even have a MID), Laos, and United States.  I highly recommend checking each country/name during any future use.  While the method isn't perfect, it is pretty close to a sure thing and is superior to messing around with trying to line everything up one by one.  This package may also be applied in the future to match names via various reports.  This [link](https://pypi.org/project/fuzzywuzzy/) provides a future reference."
   ]
  },
  {
   "cell_type": "code",
   "execution_count": 4,
   "metadata": {},
   "outputs": [],
   "source": [
    "# Code sourced from: https://stackoverflow.com/questions/13636848/is-it-possible-to-do-fuzzy-match-merge-with-python-pandas\n",
    "def fuzzy_merge(df_1, df_2, key1, key2, threshold=90, limit=2):\n",
    "    \"\"\"\n",
    "    :param df_1: the left table to join\n",
    "    :param df_2: the right table to join\n",
    "    :param key1: key column of the left table\n",
    "    :param key2: key column of the right table\n",
    "    :param threshold: how close the matches should be to return a match, based on Levenshtein distance\n",
    "    :param limit: the amount of matches that will get returned, these are sorted high to low\n",
    "    :return: dataframe with boths keys and matches\n",
    "    \"\"\"\n",
    "    s = df_2[key2].tolist()\n",
    "\n",
    "    m = df_1[key1].apply(lambda x: process.extract(x, s, limit=limit))    \n",
    "    df_1['matches'] = m\n",
    "    \n",
    "    m2 = df_1['matches'].apply(lambda x: ', '.join([i[0] for i in x if i[1] >= threshold]))\n",
    "    df_1['matches'] = m2\n",
    "\n",
    "    return df_1"
   ]
  },
  {
   "cell_type": "markdown",
   "metadata": {},
   "source": [
    "Now that we've acquired a rudimentary fuzzy merge technique, we can apply it using the previous function.  However, this function just displays a relative match to another country so a second merge operation is conducted followed by table manipulation."
   ]
  },
  {
   "cell_type": "code",
   "execution_count": 5,
   "metadata": {},
   "outputs": [
    {
     "data": {
      "text/html": [
       "<div>\n",
       "<style scoped>\n",
       "    .dataframe tbody tr th:only-of-type {\n",
       "        vertical-align: middle;\n",
       "    }\n",
       "\n",
       "    .dataframe tbody tr th {\n",
       "        vertical-align: top;\n",
       "    }\n",
       "\n",
       "    .dataframe thead th {\n",
       "        text-align: right;\n",
       "    }\n",
       "</style>\n",
       "<table border=\"1\" class=\"dataframe\">\n",
       "  <thead>\n",
       "    <tr style=\"text-align: right;\">\n",
       "      <th></th>\n",
       "      <th>merchant_vessel_count</th>\n",
       "      <th>iso_2</th>\n",
       "      <th>iso3</th>\n",
       "      <th>country</th>\n",
       "      <th>Codes</th>\n",
       "    </tr>\n",
       "  </thead>\n",
       "  <tbody>\n",
       "    <tr>\n",
       "      <th>0</th>\n",
       "      <td>57</td>\n",
       "      <td>AL</td>\n",
       "      <td>ALB</td>\n",
       "      <td>Albania</td>\n",
       "      <td>201</td>\n",
       "    </tr>\n",
       "    <tr>\n",
       "      <th>1</th>\n",
       "      <td>110</td>\n",
       "      <td>DZ</td>\n",
       "      <td>DZA</td>\n",
       "      <td>Algeria</td>\n",
       "      <td>605</td>\n",
       "    </tr>\n",
       "    <tr>\n",
       "      <th>2</th>\n",
       "      <td>55</td>\n",
       "      <td>AO</td>\n",
       "      <td>AGO</td>\n",
       "      <td>Angola</td>\n",
       "      <td>603</td>\n",
       "    </tr>\n",
       "    <tr>\n",
       "      <th>3</th>\n",
       "      <td>1</td>\n",
       "      <td>AI</td>\n",
       "      <td>AIA</td>\n",
       "      <td>Anguilla</td>\n",
       "      <td>301</td>\n",
       "    </tr>\n",
       "    <tr>\n",
       "      <th>4</th>\n",
       "      <td>964</td>\n",
       "      <td>AG</td>\n",
       "      <td>ATG</td>\n",
       "      <td>Antigua and Barbuda</td>\n",
       "      <td>304; 305</td>\n",
       "    </tr>\n",
       "    <tr>\n",
       "      <th>...</th>\n",
       "      <td>...</td>\n",
       "      <td>...</td>\n",
       "      <td>...</td>\n",
       "      <td>...</td>\n",
       "      <td>...</td>\n",
       "    </tr>\n",
       "    <tr>\n",
       "      <th>172</th>\n",
       "      <td>421</td>\n",
       "      <td>VU</td>\n",
       "      <td>VUT</td>\n",
       "      <td>Vanuatu</td>\n",
       "      <td>576; 577</td>\n",
       "    </tr>\n",
       "    <tr>\n",
       "      <th>173</th>\n",
       "      <td>267</td>\n",
       "      <td>VE</td>\n",
       "      <td>VEN</td>\n",
       "      <td>Venezuela</td>\n",
       "      <td>775</td>\n",
       "    </tr>\n",
       "    <tr>\n",
       "      <th>174</th>\n",
       "      <td>1818</td>\n",
       "      <td>VN</td>\n",
       "      <td>VNM</td>\n",
       "      <td>Vietnam</td>\n",
       "      <td>574</td>\n",
       "    </tr>\n",
       "    <tr>\n",
       "      <th>175</th>\n",
       "      <td>31</td>\n",
       "      <td>YE</td>\n",
       "      <td>YEM</td>\n",
       "      <td>Yemen</td>\n",
       "      <td>473; 475</td>\n",
       "    </tr>\n",
       "    <tr>\n",
       "      <th>176</th>\n",
       "      <td>1</td>\n",
       "      <td>ZM</td>\n",
       "      <td>ZMB</td>\n",
       "      <td>Zambia</td>\n",
       "      <td>678</td>\n",
       "    </tr>\n",
       "  </tbody>\n",
       "</table>\n",
       "<p>177 rows × 5 columns</p>\n",
       "</div>"
      ],
      "text/plain": [
       "     merchant_vessel_count iso_2 iso3              country     Codes\n",
       "0                       57    AL  ALB              Albania       201\n",
       "1                      110    DZ  DZA              Algeria       605\n",
       "2                       55    AO  AGO               Angola       603\n",
       "3                        1    AI  AIA             Anguilla       301\n",
       "4                      964    AG  ATG  Antigua and Barbuda  304; 305\n",
       "..                     ...   ...  ...                  ...       ...\n",
       "172                    421    VU  VUT              Vanuatu  576; 577\n",
       "173                    267    VE  VEN            Venezuela       775\n",
       "174                   1818    VN  VNM              Vietnam       574\n",
       "175                     31    YE  YEM                Yemen  473; 475\n",
       "176                      1    ZM  ZMB               Zambia       678\n",
       "\n",
       "[177 rows x 5 columns]"
      ]
     },
     "execution_count": 5,
     "metadata": {},
     "output_type": "execute_result"
    }
   ],
   "source": [
    "# Since some countries are labelled similar but different, a 'fuzzy merge' can be executed\n",
    "temp_df = fuzzy_merge(ships_df, table, 'country', 'country', 80, limit = 1)\n",
    "\n",
    "# Now that we've got everything matched up, we can execute a standard pandas merge\n",
    "task3_df = pd.merge(temp_df, table, left_on = 'matches', right_on = 'country', how = 'left')\n",
    "\n",
    "# Since Guam doesn't have any country codes, it gets left out of the loop so we need to change it manually\n",
    "task3_df.iloc[67,4] = 'Guam'\n",
    "\n",
    "# Remove excess columns\n",
    "task3_df.drop(['country_x'], axis=1, inplace=True)\n",
    "task3_df.drop(['country_y'], axis=1, inplace=True)\n",
    "\n",
    "# Rename the 'matches' column to 'country'\n",
    "task3_df.rename(columns = {'matches': 'country'}, inplace = True)\n",
    "\n",
    "# Sort the data frame by country alphabetically\n",
    "task3_df.sort_values('country', inplace = True)\n",
    "\n",
    "# Print a copy of the dataframe\n",
    "task3_df"
   ]
  },
  {
   "cell_type": "markdown",
   "metadata": {},
   "source": [
    "#### Task 4\n",
    "\n",
    "For Task 4, we are required to seek out and scrape for additional data and comparative analysis to a ship's [Flag of Convenience](https://en.wikipedia.org/wiki/Flag_of_convenience).  Additional data might include the number of financial regulations (i.e. the lower the number of regulations the higher number of maritime vessels), the number of ports (i.e. the more ports the more ships can dock), or Gross Domestic Product (i.e. the higher the GDP, the more ships required to transport goods).\n",
    "\n",
    "As a result, the link below depicts GDP per capita as well as population for every country in the world.  We will use the same code above given a URL string, `pd.read_html()`, select the first table, and conduct manual data frame manipulation for future merge operations."
   ]
  },
  {
   "cell_type": "code",
   "execution_count": 6,
   "metadata": {
    "scrolled": true
   },
   "outputs": [
    {
     "data": {
      "text/html": [
       "<div>\n",
       "<style scoped>\n",
       "    .dataframe tbody tr th:only-of-type {\n",
       "        vertical-align: middle;\n",
       "    }\n",
       "\n",
       "    .dataframe tbody tr th {\n",
       "        vertical-align: top;\n",
       "    }\n",
       "\n",
       "    .dataframe thead th {\n",
       "        text-align: right;\n",
       "    }\n",
       "</style>\n",
       "<table border=\"1\" class=\"dataframe\">\n",
       "  <thead>\n",
       "    <tr style=\"text-align: right;\">\n",
       "      <th></th>\n",
       "      <th>Name</th>\n",
       "      <th>Rank</th>\n",
       "      <th>GDP (IMF '19)</th>\n",
       "      <th>GDP (UN '16)</th>\n",
       "      <th>GDP Per Capita</th>\n",
       "      <th>2019 Population</th>\n",
       "    </tr>\n",
       "  </thead>\n",
       "  <tbody>\n",
       "    <tr>\n",
       "      <th>0</th>\n",
       "      <td>United States</td>\n",
       "      <td>1</td>\n",
       "      <td>22.20 Tn</td>\n",
       "      <td>18.62 Tn</td>\n",
       "      <td>$67,063</td>\n",
       "      <td>331002651</td>\n",
       "    </tr>\n",
       "    <tr>\n",
       "      <th>1</th>\n",
       "      <td>China</td>\n",
       "      <td>2</td>\n",
       "      <td>15.47 Tn</td>\n",
       "      <td>11.22 Tn</td>\n",
       "      <td>$10,747</td>\n",
       "      <td>1439323776</td>\n",
       "    </tr>\n",
       "    <tr>\n",
       "      <th>2</th>\n",
       "      <td>Japan</td>\n",
       "      <td>3</td>\n",
       "      <td>5.50 Tn</td>\n",
       "      <td>4.94 Tn</td>\n",
       "      <td>$43,450</td>\n",
       "      <td>126476461</td>\n",
       "    </tr>\n",
       "    <tr>\n",
       "      <th>3</th>\n",
       "      <td>Germany</td>\n",
       "      <td>4</td>\n",
       "      <td>4.16 Tn</td>\n",
       "      <td>3.48 Tn</td>\n",
       "      <td>$49,617</td>\n",
       "      <td>83783942</td>\n",
       "    </tr>\n",
       "    <tr>\n",
       "      <th>4</th>\n",
       "      <td>India</td>\n",
       "      <td>5</td>\n",
       "      <td>3.26 Tn</td>\n",
       "      <td>2.26 Tn</td>\n",
       "      <td>$2,361</td>\n",
       "      <td>1380004385</td>\n",
       "    </tr>\n",
       "    <tr>\n",
       "      <th>...</th>\n",
       "      <td>...</td>\n",
       "      <td>...</td>\n",
       "      <td>...</td>\n",
       "      <td>...</td>\n",
       "      <td>...</td>\n",
       "      <td>...</td>\n",
       "    </tr>\n",
       "    <tr>\n",
       "      <th>201</th>\n",
       "      <td>Pakistan</td>\n",
       "      <td>207</td>\n",
       "      <td>NaN</td>\n",
       "      <td>282.51 Bn</td>\n",
       "      <td>$1,279</td>\n",
       "      <td>220892340</td>\n",
       "    </tr>\n",
       "    <tr>\n",
       "      <th>202</th>\n",
       "      <td>Anguilla</td>\n",
       "      <td>208</td>\n",
       "      <td>NaN</td>\n",
       "      <td>337.52 Mn</td>\n",
       "      <td>$22,497</td>\n",
       "      <td>15003</td>\n",
       "    </tr>\n",
       "    <tr>\n",
       "      <th>203</th>\n",
       "      <td>Sudan</td>\n",
       "      <td>209</td>\n",
       "      <td>NaN</td>\n",
       "      <td>82.89 Bn</td>\n",
       "      <td>$1,890</td>\n",
       "      <td>43849260</td>\n",
       "    </tr>\n",
       "    <tr>\n",
       "      <th>204</th>\n",
       "      <td>Syria</td>\n",
       "      <td>210</td>\n",
       "      <td>NaN</td>\n",
       "      <td>22.16 Bn</td>\n",
       "      <td>$1,266</td>\n",
       "      <td>17500658</td>\n",
       "    </tr>\n",
       "    <tr>\n",
       "      <th>205</th>\n",
       "      <td>Turks And Caicos Islands</td>\n",
       "      <td>211</td>\n",
       "      <td>NaN</td>\n",
       "      <td>917.55 Mn</td>\n",
       "      <td>$23,699</td>\n",
       "      <td>38717</td>\n",
       "    </tr>\n",
       "  </tbody>\n",
       "</table>\n",
       "<p>206 rows × 6 columns</p>\n",
       "</div>"
      ],
      "text/plain": [
       "                         Name  Rank GDP (IMF '19) GDP (UN '16) GDP Per Capita  \\\n",
       "0               United States     1      22.20 Tn     18.62 Tn        $67,063   \n",
       "1                       China     2      15.47 Tn     11.22 Tn        $10,747   \n",
       "2                       Japan     3       5.50 Tn      4.94 Tn        $43,450   \n",
       "3                     Germany     4       4.16 Tn      3.48 Tn        $49,617   \n",
       "4                       India     5       3.26 Tn      2.26 Tn         $2,361   \n",
       "..                        ...   ...           ...          ...            ...   \n",
       "201                  Pakistan   207           NaN    282.51 Bn         $1,279   \n",
       "202                  Anguilla   208           NaN    337.52 Mn        $22,497   \n",
       "203                     Sudan   209           NaN     82.89 Bn         $1,890   \n",
       "204                     Syria   210           NaN     22.16 Bn         $1,266   \n",
       "205  Turks And Caicos Islands   211           NaN    917.55 Mn        $23,699   \n",
       "\n",
       "     2019 Population  \n",
       "0          331002651  \n",
       "1         1439323776  \n",
       "2          126476461  \n",
       "3           83783942  \n",
       "4         1380004385  \n",
       "..               ...  \n",
       "201        220892340  \n",
       "202            15003  \n",
       "203         43849260  \n",
       "204         17500658  \n",
       "205            38717  \n",
       "\n",
       "[206 rows x 6 columns]"
      ]
     },
     "execution_count": 6,
     "metadata": {},
     "output_type": "execute_result"
    }
   ],
   "source": [
    "# String designating website\n",
    "url2 = 'https://worldpopulationreview.com/countries/countries-by-gdp'\n",
    "\n",
    "# Read the table using pandas.read_html method\n",
    "table2 = pd.read_html(url2)\n",
    "\n",
    "# Select the first table in the list\n",
    "table2 = table2[0]\n",
    "\n",
    "# Name changes for future merge operations\n",
    "table2.iloc[89,1] = \"Côte d'Ivoire\" # Ivory Coast to Côte d'Ivoire\n",
    "table2.iloc[112,1] = \"Lao People's Democratic Republic\" # Laos to Lao People's Democratic Republic\n",
    "table2.iloc[86,1] = 'Democratic Republic of the Congo' #Dr congo to Democratic Republic of the Congo\n",
    "\n",
    "# Set index so we can drop countries that interfere with merge operations\n",
    "table2.set_index('Name', inplace = True)\n",
    "\n",
    "# Drop countries that interfere with merge operations\n",
    "table2.drop(['Czech Republic', 'Mali', 'Bosnia And Herzegovina', 'South Sudan', 'Saint Lucia'], axis=0, inplace = True)\n",
    "\n",
    "# Reset the index\n",
    "table2.reset_index(inplace = True)\n",
    "\n",
    "# Print a copy of the table\n",
    "table2"
   ]
  },
  {
   "cell_type": "markdown",
   "metadata": {},
   "source": [
    "We can execute a similar `fuzzy_merge()` as before and then remove excess columns to create a data frame that contains maritime information for each country in our original list."
   ]
  },
  {
   "cell_type": "code",
   "execution_count": 7,
   "metadata": {},
   "outputs": [],
   "source": [
    "# Since some countries are labelled similar but different, a 'fuzzy merge' can be executed\n",
    "temp_df = fuzzy_merge(table2, task3_df, 'Name', 'country', 80, limit = 1)\n",
    "\n",
    "# Now that we've got everything matched up, we can execute a standard pandas merge\n",
    "task4_df = pd.merge(temp_df, task3_df, left_on = 'matches', right_on = 'country', how = 'right')\n",
    "\n",
    "# Remove excess columns\n",
    "task4_df.drop(['matches'], axis=1, inplace=True)\n",
    "task4_df.drop(['country'], axis=1, inplace=True)\n",
    "\n",
    "# Sort the data frame by country alphabetically\n",
    "task4_df.sort_values('Name', inplace = True)\n",
    "\n",
    "# Set data frame index\n",
    "task4_df.set_index('Name', inplace = True)\n",
    "\n",
    "# Rename the columns\n",
    "task4_df.rename(columns = {'Rank': 'GDP Rank'}, inplace = True)\n",
    "task4_df.rename(columns = {'Codes': 'MID Codes'}, inplace = True)"
   ]
  },
  {
   "cell_type": "markdown",
   "metadata": {},
   "source": [
    "#### Task 5\n",
    "\n",
    "The `bash` command `wget`downloads files served with HTTP, HTTPS, or FTP over a network.  If `wget` is not installed in your `bash` shell, `sudo apt-get install wget` will install or update it.\n",
    "\n",
    "`wget` uses the following format: `wget [option] [URL]`.  The method `wget` contains a multitude of options that include but not limited to: input file options, download options, and HTTP options. See the following [link](https://www.computerhope.com/unix/wget.htm) for documentation.\n",
    "\n",
    "It is important to note that as of 17OCT20, `wget` requires the 'URL' be linked to the desired file itself.  In its present form, `wget` is unable to first go to a URL then exercise an 'option' that contains a second URL string directing you to the desired file.\n",
    "\n",
    "An option of `wget` is to read in a text file that contains various URLs and execute each command.  In the event you need to download multiple files, copy and paste their URLs into a single .txt file.  Then use the `-i` option to read the .txt file containing the URLs.  The code I ultimately used for this task is depicted below."
   ]
  },
  {
   "cell_type": "markdown",
   "metadata": {},
   "source": [
    "-  `wget -i WGET.txt`"
   ]
  },
  {
   "cell_type": "markdown",
   "metadata": {},
   "source": [
    "The `bash` command `unzip` allows a user to view and report metadata details about each daily file.  If `unzip` is not installed within your `bash` shell, `sudo apt install unzip` can be used to install the method.\n",
    "\n",
    "The `unzip` command uses the following format `unzip <OPTIONS> [MODIFIER] <ZIPFILE> [<OPTIONS>] <FILE_or_DIRECTORY>`.  While `unzip` does not contain as many permutations of options or modifiers, `unzip` can be modified. See the following [link](hhttps://www.computerhope.com/unix/unzip.htm) for documentation.\n",
    "\n",
    "To unzip a file, use the command below."
   ]
  },
  {
   "cell_type": "markdown",
   "metadata": {},
   "source": [
    "-  `unzip AIS_2018_11_01.zip`\n",
    "-  `unzip AIS_2018_11_02.zip`\n",
    "-  `unzip AIS_2018_11_03.zip`"
   ]
  },
  {
   "cell_type": "markdown",
   "metadata": {},
   "source": [
    "Now that we have unzipped the files, we can see that they are rather large.  Therefore, it is incumbent upon our computer's efficiency to reduce it to a more manageable size.  Once that is complete, the three data frames can be concatenated using `pd.concat`.  Once this is complete, a new master AIS data frame of three days of AIS data is compiled chronologically."
   ]
  },
  {
   "cell_type": "code",
   "execution_count": 8,
   "metadata": {
    "scrolled": false
   },
   "outputs": [],
   "source": [
    "vessel_data1 = pd.read_csv(\"AIS_2018_11_01.csv\")\n",
    "vessel_data1 = pd.Series(vessel_data1['MMSI'])\n",
    "vessel_data1 = vessel_data1.apply(lambda _: str(_))"
   ]
  },
  {
   "cell_type": "code",
   "execution_count": 9,
   "metadata": {},
   "outputs": [],
   "source": [
    "vessel_data2 = pd.read_csv(\"AIS_2018_11_02.csv\")\n",
    "vessel_data2 = pd.Series(vessel_data2['MMSI'])\n",
    "vessel_data2 = vessel_data2.apply(lambda _: str(_))"
   ]
  },
  {
   "cell_type": "code",
   "execution_count": 10,
   "metadata": {},
   "outputs": [],
   "source": [
    "vessel_data3 = pd.read_csv(\"AIS_2018_11_03.csv\")\n",
    "vessel_data3 = pd.Series(vessel_data3['MMSI'])\n",
    "vessel_data3 = vessel_data3.apply(lambda _: str(_))"
   ]
  },
  {
   "cell_type": "code",
   "execution_count": 11,
   "metadata": {},
   "outputs": [],
   "source": [
    "master_vessel_data = pd.concat([vessel_data1, vessel_data2, vessel_data3])"
   ]
  },
  {
   "cell_type": "code",
   "execution_count": 12,
   "metadata": {},
   "outputs": [
    {
     "data": {
      "text/plain": [
       "0          367005220\n",
       "1          368059910\n",
       "2          267181950\n",
       "3          367003470\n",
       "4          367689230\n",
       "             ...    \n",
       "7070677    311000369\n",
       "7070678    563049900\n",
       "7070679    563033900\n",
       "7070680    367632910\n",
       "7070681    338049554\n",
       "Name: MMSI, Length: 21016736, dtype: object"
      ]
     },
     "execution_count": 12,
     "metadata": {},
     "output_type": "execute_result"
    }
   ],
   "source": [
    "master_vessel_data"
   ]
  },
  {
   "cell_type": "markdown",
   "metadata": {},
   "source": [
    "To determine the activity and vessel ratio for each country, we may apply the following algorithm:\n",
    "1. Create a particular regex string for each MID code.\n",
    "2. Use `re.findall` to identify the different number MMSI codes within the master AIS data frame.    \n",
    "3. Determine and aggregate the total number of pings for each MID code.\n",
    "4. Determine the total number of pings for each MMSI."
   ]
  },
  {
   "cell_type": "code",
   "execution_count": 13,
   "metadata": {},
   "outputs": [],
   "source": [
    "#           Panama\n",
    "# Create regex strings to search for each countries MMSI within 01-03NOV18\n",
    "PAN_MMSI351 = r'^351{1}\\d\\d\\d\\d\\d\\d'\n",
    "PAN_MMSI352 = r'^352{1}\\d\\d\\d\\d\\d\\d'\n",
    "PAN_MMSI353 = r'^353{1}\\d\\d\\d\\d\\d\\d'\n",
    "PAN_MMSI354 = r'^354{1}\\d\\d\\d\\d\\d\\d'\n",
    "PAN_MMSI355 = r'^355{1}\\d\\d\\d\\d\\d\\d'\n",
    "PAN_MMSI356 = r'^356{1}\\d\\d\\d\\d\\d\\d'\n",
    "PAN_MMSI357 = r'^357{1}\\d\\d\\d\\d\\d\\d'\n",
    "PAN_MMSI370 = r'^370{1}\\d\\d\\d\\d\\d\\d'\n",
    "PAN_MMSI371 = r'^371{1}\\d\\d\\d\\d\\d\\d'\n",
    "PAN_MMSI372 = r'^372{1}\\d\\d\\d\\d\\d\\d'\n",
    "PAN_MMSI373 = r'^373{1}\\d\\d\\d\\d\\d\\d'\n",
    "PAN_MMSI374 = r'^374{1}\\d\\d\\d\\d\\d\\d'\n",
    "\n",
    "# Search for the different number of MMSI codes used by the country in the dataframe\n",
    "PAN_MMSI_codes = re.findall(r'\\d\\d\\d', task4_df.loc['Panama', 'MID Codes'])\n",
    "\n",
    "# Determine the number of unique ships carrying any of the country's MMSI codes\n",
    "PAN_MMSI_len = len(master_vessel_data.str.findall(PAN_MMSI351).value_counts()) + len(master_vessel_data.str.findall(PAN_MMSI352).value_counts()) + len(master_vessel_data.str.findall(PAN_MMSI353).value_counts()) + len(master_vessel_data.str.findall(PAN_MMSI354).value_counts()) + len(master_vessel_data.str.findall(PAN_MMSI355).value_counts()) + len(master_vessel_data.str.findall(PAN_MMSI356).value_counts()) + len(master_vessel_data.str.findall(PAN_MMSI357).value_counts()) + len(master_vessel_data.str.findall(PAN_MMSI370).value_counts()) +  len(master_vessel_data.str.findall(PAN_MMSI371).value_counts()) + len(master_vessel_data.str.findall(PAN_MMSI372).value_counts()) + len(master_vessel_data.str.findall(PAN_MMSI373).value_counts())\n",
    "\n",
    "# Determine the total number of pings for each MMSI\n",
    "PAN_MMSI_activity = master_vessel_data.str.contains(PAN_MMSI351).sum() + master_vessel_data.str.contains(PAN_MMSI352).sum() + master_vessel_data.str.contains(PAN_MMSI353).sum() + master_vessel_data.str.contains(PAN_MMSI354).sum() + master_vessel_data.str.contains(PAN_MMSI355).sum() + master_vessel_data.str.contains(PAN_MMSI356).sum() + master_vessel_data.str.contains(PAN_MMSI357).sum() + master_vessel_data.str.contains(PAN_MMSI370).sum() + master_vessel_data.str.contains(PAN_MMSI371).sum() + master_vessel_data.str.contains(PAN_MMSI372).sum() + master_vessel_data.str.contains(PAN_MMSI373).sum() + master_vessel_data.str.contains(PAN_MMSI374).sum()\n",
    "\n",
    "#           Marshall Islands\n",
    "# Create regex strings to search for each countries MMSI within 01-03NOV18\n",
    "MAR_MMSI538 = r'^538{1}\\d\\d\\d\\d\\d\\d'\n",
    "\n",
    "# Determine the number of unique ships carrying any of the country's MMSI codes\n",
    "MAR_MMSI_len = len(master_vessel_data.str.findall(MAR_MMSI538).value_counts())\n",
    "\n",
    "# Determine the total number of pings for each MMSI\n",
    "MAR_MMSI_activity = master_vessel_data.str.contains(MAR_MMSI538).sum()\n",
    "\n",
    "#           Liberia\n",
    "# Create regex strings to search for each countries MMSI within 01-03NOV18\n",
    "LIB_MMSI636 = r'^636{1}\\d\\d\\d\\d\\d\\d'\n",
    "LIB_MMSI637 = r'^637{1}\\d\\d\\d\\d\\d\\d'\n",
    "\n",
    "# Search for the different number of MMSI codes used by the country in the dataframe\n",
    "LIB_MMSI_codes = re.findall(r'\\d\\d\\d', task4_df.loc['Liberia', 'MID Codes'])\n",
    "\n",
    "# Determine the number of unique ships carrying any of the country's MMSI codes\n",
    "LIB_MMSI_len = len(master_vessel_data.str.findall(LIB_MMSI636).value_counts()) + len(master_vessel_data.str.findall(LIB_MMSI637).value_counts())\n",
    "\n",
    "# Determine the total number of pings for each MMSI\n",
    "LIB_MMSI_activity = master_vessel_data.str.contains(LIB_MMSI636).sum() + master_vessel_data.str.contains(LIB_MMSI637).sum()\n",
    "\n",
    "#           Hong Kong\n",
    "# Create regex strings to search for each countries MMSI within 01-03NOV18\n",
    "HK_MMSI477 = r'^477{1}\\d\\d\\d\\d\\d\\d'\n",
    "\n",
    "# Determine the number of unique ships carrying any of the country's MMSI codes\n",
    "HK_MMSI_len = len(master_vessel_data.str.findall(HK_MMSI477).value_counts())\n",
    "\n",
    "# Determine the total number of pings for each MMSI\n",
    "HK_MMSI_activity = master_vessel_data.str.contains(HK_MMSI477).sum()\n",
    "\n",
    "#           Singapore\n",
    "# Create regex strings to search for each countries MMSI within 01-03NOV18\n",
    "SIN_MMSI563 = r'^563{1}\\d\\d\\d\\d\\d\\d'\n",
    "SIN_MMSI564 = r'^564{1}\\d\\d\\d\\d\\d\\d'\n",
    "SIN_MMSI565 = r'^565{1}\\d\\d\\d\\d\\d\\d'\n",
    "SIN_MMSI566 = r'^566{1}\\d\\d\\d\\d\\d\\d'\n",
    "\n",
    "# Search for the different number of MMSI codes used by the country in the dataframe\n",
    "SIN_MMSI_codes = re.findall(r'\\d\\d\\d', task4_df.loc['Singapore', 'MID Codes'])\n",
    "\n",
    "# Determine the number of unique ships carrying any of the country's MMSI codes\n",
    "SIN_MMSI_len = len(master_vessel_data.str.findall(SIN_MMSI563).value_counts()) + len(master_vessel_data.str.findall(SIN_MMSI564).value_counts()) + len(master_vessel_data.str.findall(SIN_MMSI565).value_counts()) + len(master_vessel_data.str.findall(SIN_MMSI566).value_counts())\n",
    "\n",
    "# Determine the number of unique ships carrying any of the country's MMSI codes\n",
    "SIN_MMSI_activity = master_vessel_data.str.contains(SIN_MMSI563).sum() + master_vessel_data.str.contains(SIN_MMSI564).sum() + master_vessel_data.str.contains(SIN_MMSI565).sum() + master_vessel_data.str.contains(SIN_MMSI566).sum()"
   ]
  },
  {
   "cell_type": "markdown",
   "metadata": {},
   "source": [
    "Once these values are determined, we may calculate the activity ratio as previously defined."
   ]
  },
  {
   "cell_type": "code",
   "execution_count": 14,
   "metadata": {},
   "outputs": [],
   "source": [
    "# Activity ratio\n",
    "PAN_activity_ratio = PAN_MMSI_activity / task4_df.loc['Panama', 'merchant_vessel_count']\n",
    "MAR_activity_ratio = MAR_MMSI_activity / task4_df.loc['Marshall Islands', 'merchant_vessel_count']\n",
    "LIB_activity_ratio = LIB_MMSI_activity / task4_df.loc['Liberia', 'merchant_vessel_count']\n",
    "HK_activity_ratio = HK_MMSI_activity / task4_df.loc['Hong Kong', 'merchant_vessel_count']\n",
    "SIN_activity_ratio = SIN_MMSI_activity / task4_df.loc['Singapore', 'merchant_vessel_count']"
   ]
  },
  {
   "cell_type": "code",
   "execution_count": 15,
   "metadata": {},
   "outputs": [
    {
     "name": "stdout",
     "output_type": "stream",
     "text": [
      "The activity ratio for Panama is 43.61.\n",
      "The activity ratio for the Marshall Islands is 116.1.\n",
      "The activity ratio for Liberia is 76.21.\n",
      "The activity ratio for Hong King is 50.99.\n",
      "The activity ratio for Singapore is 40.44.\n"
     ]
    }
   ],
   "source": [
    "print(\"The activity ratio for Panama is \", round(PAN_activity_ratio,2), \".\", sep='')\n",
    "print(\"The activity ratio for the Marshall Islands is \", round(MAR_activity_ratio,2), \".\", sep='')\n",
    "print(\"The activity ratio for Liberia is \", round(LIB_activity_ratio,2), \".\", sep='')\n",
    "print(\"The activity ratio for Hong King is \", round(HK_activity_ratio,2), \".\", sep='')\n",
    "print(\"The activity ratio for Singapore is \", round(SIN_activity_ratio,2), \".\", sep='')"
   ]
  },
  {
   "cell_type": "markdown",
   "metadata": {},
   "source": [
    "Create a simple visualization of each country's activity ratio."
   ]
  },
  {
   "cell_type": "code",
   "execution_count": 16,
   "metadata": {},
   "outputs": [
    {
     "data": {
      "image/png": "[encoded data removed]",
      "text/plain": [
       "<Figure size 720x360 with 1 Axes>"
      ]
     },
     "metadata": {
      "needs_background": "light"
     },
     "output_type": "display_data"
    }
   ],
   "source": [
    "# creating the dataset \n",
    "activity_data = {'Marshall Islands':MAR_activity_ratio, 'Liberia':LIB_activity_ratio, \n",
    "        'Hong Kong':HK_activity_ratio,  'Panama':PAN_activity_ratio, 'Singapore': SIN_activity_ratio} \n",
    "courses = list(activity_data.keys()) \n",
    "values = list(activity_data.values()) \n",
    "   \n",
    "fig = plt.figure(figsize = (10, 5)) \n",
    "  \n",
    "# creating the bar plot \n",
    "plt.bar(courses, values, color ='blue',  \n",
    "        width = 0.4) \n",
    "  \n",
    "plt.xlabel(\"Countries\") \n",
    "plt.ylabel(\"Total MMSI Pings / Total Merchant Ships\") \n",
    "plt.title(\"Activity Ratio\") \n",
    "plt.show() "
   ]
  },
  {
   "cell_type": "markdown",
   "metadata": {},
   "source": [
    "Once these values are determined, we may calculate the activity ratio as previously defined."
   ]
  },
  {
   "cell_type": "code",
   "execution_count": 17,
   "metadata": {},
   "outputs": [],
   "source": [
    "# Vessel ratio\n",
    "PAN_vessel_ratio = PAN_MMSI_len / task4_df.loc['Panama', 'merchant_vessel_count']\n",
    "MAR_vessel_ratio = MAR_MMSI_len / task4_df.loc['Marshall Islands', 'merchant_vessel_count']\n",
    "LIB_vessel_ratio = LIB_MMSI_len / task4_df.loc['Liberia', 'merchant_vessel_count']\n",
    "HK_vessel_ratio = HK_MMSI_len / task4_df.loc['Hong Kong', 'merchant_vessel_count']\n",
    "SIN_vessel_ratio = SIN_MMSI_len / task4_df.loc['Singapore', 'merchant_vessel_count']"
   ]
  },
  {
   "cell_type": "code",
   "execution_count": 18,
   "metadata": {},
   "outputs": [
    {
     "name": "stdout",
     "output_type": "stream",
     "text": [
      "The vessel ratio for Panama is 0.04.\n",
      "The vessel ratio for the Marshall Islands is 0.12.\n",
      "The vessel ratio for Liberia is 0.08.\n",
      "The vessel ratio for Hong King is 0.05.\n",
      "The vessel ratio for Singapore is 0.05.\n"
     ]
    }
   ],
   "source": [
    "print(\"The vessel ratio for Panama is \", round(PAN_vessel_ratio,2), \".\", sep='')\n",
    "print(\"The vessel ratio for the Marshall Islands is \", round(MAR_vessel_ratio,2), \".\", sep='')\n",
    "print(\"The vessel ratio for Liberia is \", round(LIB_vessel_ratio,2), \".\", sep='')\n",
    "print(\"The vessel ratio for Hong King is \", round(HK_vessel_ratio,2), \".\", sep='')\n",
    "print(\"The vessel ratio for Singapore is \", round(SIN_vessel_ratio,2), \".\", sep='')"
   ]
  },
  {
   "cell_type": "markdown",
   "metadata": {},
   "source": [
    "Create a simple visualization of each country's activity ratio."
   ]
  },
  {
   "cell_type": "code",
   "execution_count": 19,
   "metadata": {},
   "outputs": [
    {
     "data": {
      "image/png": "[encoded data removed]",
      "text/plain": [
       "<Figure size 720x360 with 1 Axes>"
      ]
     },
     "metadata": {
      "needs_background": "light"
     },
     "output_type": "display_data"
    }
   ],
   "source": [
    "# creating the dataset \n",
    "vessel_data = {'Marshall Islands':MAR_vessel_ratio, 'Liberia':LIB_vessel_ratio, \n",
    "        'Hong Kong':HK_vessel_ratio, 'Singapore': SIN_vessel_ratio,   'Panama':PAN_vessel_ratio} \n",
    "courses = list(vessel_data.keys()) \n",
    "values = list(vessel_data.values()) \n",
    "   \n",
    "fig = plt.figure(figsize = (10, 5)) \n",
    "  \n",
    "# creating the bar plot \n",
    "plt.bar(courses, values, color ='green',  \n",
    "        width = 0.4) \n",
    "  \n",
    "plt.xlabel(\"Countries\") \n",
    "plt.ylabel(\"Total Unique MMSIs / Total Merchant Ships\") \n",
    "plt.title(\"Vessel Ratio\") \n",
    "plt.show() "
   ]
  },
  {
   "cell_type": "markdown",
   "metadata": {},
   "source": [
    "Create a simple visualization of each country's GDP."
   ]
  },
  {
   "cell_type": "code",
   "execution_count": 20,
   "metadata": {},
   "outputs": [],
   "source": [
    "# Extract GDPs for the interested countries\n",
    "MI_GDP = task4_df.loc[\"Marshall Islands\", \"GDP (IMF '19)\"]\n",
    "LIB_GDP = task4_df.loc[\"Liberia\", \"GDP (IMF '19)\"]\n",
    "HK_GDP = task4_df.loc[\"Hong Kong\", \"GDP (IMF '19)\"]\n",
    "SIN_GDP = task4_df.loc[\"Singapore\", \"GDP (IMF '19)\"]\n",
    "PAN_GDP = task4_df.loc[\"Panama\", \"GDP (IMF '19)\"]\n",
    "\n",
    "# Apply Regex and strip 'millions' from Marshall Islands then divide by 1000 to conver to Billions\n",
    "MI_GDP = float(re.sub('\\s\\w\\w', \"\", MI_GDP))/1000 \n",
    "\n",
    "# Apply regex and strip billions from Singapore, Liberia, Hong Kong, and Panama\n",
    "HK_GDP = float(re.sub('\\s\\w\\w', \"\", HK_GDP))\n",
    "SIN_GDP = float(re.sub('\\s\\w\\w', \"\", SIN_GDP))\n",
    "LIB_GDP = float(re.sub('\\s\\w\\w', \"\", LIB_GDP))\n",
    "PAN_GDP = float(re.sub('\\s\\w\\w', \"\", PAN_GDP))"
   ]
  },
  {
   "cell_type": "code",
   "execution_count": 21,
   "metadata": {},
   "outputs": [
    {
     "data": {
      "image/png": "[encoded data removed]",
      "text/plain": [
       "<Figure size 720x360 with 1 Axes>"
      ]
     },
     "metadata": {
      "needs_background": "light"
     },
     "output_type": "display_data"
    }
   ],
   "source": [
    "# creating the dataset \n",
    "GDP_data = {'Hong Kong':HK_GDP, 'Singapore': SIN_GDP, 'Panama':PAN_GDP, 'Liberia':LIB_GDP, 'Marshall Islands':MI_GDP} \n",
    "courses = list(GDP_data.keys()) \n",
    "values = list(GDP_data.values()) \n",
    "   \n",
    "fig = plt.figure(figsize = (10, 5)) \n",
    "  \n",
    "# creating the bar plot \n",
    "plt.bar(courses, values, color ='red',  \n",
    "        width = 0.4) \n",
    "  \n",
    "plt.xlabel(\"Countries\") \n",
    "plt.ylabel(\"Gross Domestic Product (US Billion)\") \n",
    "plt.title(\"International Monetary Fund Gross Domestic Product by Country (2019)\") \n",
    "plt.show() "
   ]
  },
  {
   "cell_type": "markdown",
   "metadata": {},
   "source": [
    "## Analysis\n",
    "\n",
    "#### Vessel Ratio\n",
    "A given country's vessel ratio is indicative of a percentage of unique ships active during 01-03NOV18.  For example, the Marshall Islands' vessel ratio is approximately 0.12, which means 12% of its ships were active during the allotted time frame. This low percentage might be a combination of any of the following factors: merchant_vessel_count from `primary_data.csv` is outdated, countries don't update their register, or the remaining ships weren't active during these days either from maintenance or other port operations. \n",
    "\n",
    "#### Activity Ratio\n",
    "The lab prompt states that the previous five countries are the top 5 Flag of Convenience countries.  A given country's activity ratio is indicative of the total number of MMSI pings divided by its total merchant vessel count.  It could be inferred that these five countries produce the highest number of MMSI pings and as a subsequent result, produce higher activity ratios.  For example, the Marshall Islands sends out sizably more pings than any of the other four countries in part as it had more unique ships available to ping during this time frame.  We can see from the vessel and activity bar plots that the vessel and activity ratios are correlated.  While Marshall Islands, Liberia, and Hong Kong remain as the top three countries, Singapore and Panama are reversed.  Singapore's activity ratio is lower than Panama's but its vessel ratio is higher.  This reversal may be a result of Singapore's ships pulling into port during this time period and turning off their transponder.  \n",
    "\n",
    "#### Conclusion\n",
    "Despite having a Gross Domestic Product (GDP) markedly lower than their peers as evidenced in the bar plot above, the Marshall Islands and Liberia account for the two largest vessel and activity ratios.  One can conclude that the ratios do not necessarily correlate to a higher GDP.  As a result, this gap may be a direct result of corruption within the Flag of Convenience system.  Further study of every country's merchant vessel count and their activity and vessel ratios may confirm or deny this conjecture."
   ]
  }
 ],
 "metadata": {
  "kernelspec": {
   "display_name": "Python 3",
   "language": "python",
   "name": "python3"
  },
  "language_info": {
   "codemirror_mode": {
    "name": "ipython",
    "version": 3
   },
   "file_extension": ".py",
   "mimetype": "text/x-python",
   "name": "python",
   "nbconvert_exporter": "python",
   "pygments_lexer": "ipython3",
   "version": "3.8.3"
  }
 },
 "nbformat": 4,
 "nbformat_minor": 4
}
