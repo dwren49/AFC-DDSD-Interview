{
 "cells": [
  {
   "cell_type": "code",
   "execution_count": 1,
   "metadata": {},
   "outputs": [],
   "source": [
    "import tweepy\n",
    "import datetime\n",
    "import xlsxwriter\n",
    "import sys\n",
    "\n",
    "# credentials from https://apps.twitter.com/\n",
    "consumerKey = XXXXXXXXXXXXXXXXXXXX\n",
    "consumerSecret = XXXXXXXXXXXXXXXX\n",
    "accessToken = XXXXXXXXXXXXXX\n",
    "accessTokenSecret = XXXXXXXXXXXX\n",
    "\n",
    "auth = tweepy.OAuthHandler(consumerKey, consumerSecret)\n",
    "auth.set_access_token(accessToken, accessTokenSecret)\n",
    "\n",
    "# Code sourced from: \n",
    "# https://medium.com/@AIY/getoldtweets3-830ebb8b2dab#:~:text=GetOldTweets3%20is%20a%20free%20Python,do%20with%20the%20Twitter%20API.\n",
    "\n",
    "# Importing GetOldTweets3\n",
    "import GetOldTweets3 as got\n",
    "# Importing pandas\n",
    "import pandas as pd\n",
    "\n",
    "def get_tweets(username, top_only, start_date, end_date, max_tweets):\n",
    "   \n",
    "    # specifying tweet search criteria \n",
    "    tweetCriteria = got.manager.TweetCriteria().setUsername(username)\\\n",
    "                          .setTopTweets(top_only)\\\n",
    "                          .setSince(start_date)\\\n",
    "                          .setUntil(end_date)\\\n",
    "                          .setMaxTweets(max_tweets)\n",
    "    \n",
    "    # scraping tweets based on criteria\n",
    "    tweet = got.manager.TweetManager.getTweets(tweetCriteria)\n",
    "    \n",
    "    # creating list of tweets with the tweet attributes \n",
    "    # specified in the list comprehension\n",
    "    text_tweets = [[tw.username,\n",
    "                tw.text,\n",
    "                tw.date,\n",
    "                tw.retweets,\n",
    "                tw.favorites,\n",
    "                tw.mentions,\n",
    "                tw.hashtags] for tw in tweet]\n",
    "    \n",
    "    # creating dataframe, assigning column names to list of\n",
    "    # tweets corresponding to tweet attributes\n",
    "    df = pd.DataFrame(text_tweets, \n",
    "                            columns = ['User', 'Text','Date', 'Favorites', 'Retweets', 'Mentions', 'HashTags'])\n",
    "    \n",
    "    return df"
   ]
  },
  {
   "cell_type": "code",
   "execution_count": 2,
   "metadata": {},
   "outputs": [],
   "source": [
    "# Defining news sources I want to include\n",
    "twitter_source = 'BBCArabic'"
   ]
  },
  {
   "cell_type": "code",
   "execution_count": 3,
   "metadata": {},
   "outputs": [],
   "source": [
    "# getting tweets from the defined new sources, \n",
    "# including all tweets\n",
    "# looking at the past week with the end_date not inclusive,\n",
    "# and specifying that we want a max number of tweets = 100.\n",
    "# also sorting the tweets by date, descending.\n",
    "JAN_2016_df = get_tweets(twitter_source, \n",
    "                     top_only = False,\n",
    "                     start_date = \"2016-01-01\", \n",
    "                     end_date = \"2016-02-01\",\n",
    "                    max_tweets = 3200).sort_values('Date', ascending=False)"
   ]
  },
  {
   "cell_type": "code",
   "execution_count": 4,
   "metadata": {},
   "outputs": [],
   "source": [
    "FEB_2016_df = get_tweets(twitter_source, \n",
    "                     top_only = False,\n",
    "                     start_date = \"2016-02-01\", \n",
    "                     end_date = \"2016-03-01\",\n",
    "                    max_tweets = 3200).sort_values('Date', ascending=False)"
   ]
  },
  {
   "cell_type": "code",
   "execution_count": 5,
   "metadata": {},
   "outputs": [],
   "source": [
    "MAR_2016_df = get_tweets('twitter_source', \n",
    "                     top_only = False,\n",
    "                     start_date = \"2016-03-01\", \n",
    "                     end_date = \"2016-04-01\",\n",
    "                    max_tweets = 3200).sort_values('Date', ascending=False)"
   ]
  },
  {
   "cell_type": "code",
   "execution_count": 6,
   "metadata": {},
   "outputs": [],
   "source": [
    "APR_2016_df = get_tweets(twitter_source, \n",
    "                     top_only = False,\n",
    "                     start_date = \"2016-04-01\", \n",
    "                     end_date = \"2016-05-01\",\n",
    "                    max_tweets = 3200).sort_values('Date', ascending=False)"
   ]
  },
  {
   "cell_type": "code",
   "execution_count": 7,
   "metadata": {},
   "outputs": [],
   "source": [
    "MAY_2016_df = get_tweets(twitter_source, \n",
    "                     top_only = False,\n",
    "                     start_date = \"2016-05-01\", \n",
    "                     end_date = \"2016-06-01\",\n",
    "                    max_tweets = 3200).sort_values('Date', ascending=False)"
   ]
  },
  {
   "cell_type": "code",
   "execution_count": 8,
   "metadata": {},
   "outputs": [],
   "source": [
    "JUN_2016_df = get_tweets(twitter_source, \n",
    "                     top_only = False,\n",
    "                     start_date = \"2016-06-01\", \n",
    "                     end_date = \"2016-07-01\",\n",
    "                    max_tweets = 3200).sort_values('Date', ascending=False)"
   ]
  },
  {
   "cell_type": "code",
   "execution_count": 9,
   "metadata": {},
   "outputs": [],
   "source": [
    "JUL_2016_df = get_tweets(twitter_source, \n",
    "                     top_only = False,\n",
    "                     start_date = \"2016-07-01\", \n",
    "                     end_date = \"2016-08-01\",\n",
    "                    max_tweets = 3200).sort_values('Date', ascending=False)"
   ]
  },
  {
   "cell_type": "code",
   "execution_count": 10,
   "metadata": {},
   "outputs": [],
   "source": [
    "AUG_2016_df = get_tweets(twitter_source, \n",
    "                     top_only = False,\n",
    "                     start_date = \"2016-08-01\", \n",
    "                     end_date = \"2016-09-01\",\n",
    "                    max_tweets = 3200).sort_values('Date', ascending=False)"
   ]
  },
  {
   "cell_type": "code",
   "execution_count": 11,
   "metadata": {},
   "outputs": [],
   "source": [
    "SEP_2016_df = get_tweets(twitter_source, \n",
    "                     top_only = False,\n",
    "                     start_date = \"2016-09-01\", \n",
    "                     end_date = \"2016-10-01\",\n",
    "                    max_tweets = 3200).sort_values('Date', ascending=False)"
   ]
  },
  {
   "cell_type": "code",
   "execution_count": 12,
   "metadata": {},
   "outputs": [],
   "source": [
    "OCT_2016_df = get_tweets(twitter_source, \n",
    "                     top_only = False,\n",
    "                     start_date = \"2016-10-01\", \n",
    "                     end_date = \"2016-11-01\",\n",
    "                    max_tweets = 3200).sort_values('Date', ascending=False)"
   ]
  },
  {
   "cell_type": "code",
   "execution_count": 13,
   "metadata": {},
   "outputs": [],
   "source": [
    "NOV_2016_df = get_tweets(twitter_source, \n",
    "                     top_only = False,\n",
    "                     start_date = \"2016-11-01\", \n",
    "                     end_date = \"2016-12-01\",\n",
    "                    max_tweets = 3200).sort_values('Date', ascending=False)"
   ]
  },
  {
   "cell_type": "code",
   "execution_count": 14,
   "metadata": {},
   "outputs": [],
   "source": [
    "DEC_2016_df = get_tweets(twitter_source, \n",
    "                     top_only = False,\n",
    "                     start_date = \"2016-12-01\", \n",
    "                     end_date = \"2017-01-01\",\n",
    "                    max_tweets = 3200).sort_values('Date', ascending=False)"
   ]
  },
  {
   "cell_type": "code",
   "execution_count": 16,
   "metadata": {},
   "outputs": [],
   "source": [
    "JAN_2017_df = get_tweets(twitter_source, \n",
    "                     top_only = False,\n",
    "                     start_date = \"2017-01-01\", \n",
    "                     end_date = \"2017-02-01\",\n",
    "                    max_tweets = 3200).sort_values('Date', ascending=False)"
   ]
  },
  {
   "cell_type": "code",
   "execution_count": 17,
   "metadata": {},
   "outputs": [],
   "source": [
    "FEB_2017_df = get_tweets(twitter_source, \n",
    "                     top_only = False,\n",
    "                     start_date = \"2017-02-01\", \n",
    "                     end_date = \"2017-03-01\",\n",
    "                    max_tweets = 3200).sort_values('Date', ascending=False)"
   ]
  },
  {
   "cell_type": "code",
   "execution_count": 18,
   "metadata": {},
   "outputs": [],
   "source": [
    "MAR_2017_df = get_tweets(twitter_source, \n",
    "                     top_only = False,\n",
    "                     start_date = \"2017-03-01\", \n",
    "                     end_date = \"2017-04-01\",\n",
    "                    max_tweets = 3200).sort_values('Date', ascending=False)"
   ]
  },
  {
   "cell_type": "code",
   "execution_count": 19,
   "metadata": {},
   "outputs": [],
   "source": [
    "APR_2017_df = get_tweets(twitter_source, \n",
    "                     top_only = False,\n",
    "                     start_date = \"2017-04-01\", \n",
    "                     end_date = \"2017-05-01\",\n",
    "                    max_tweets = 3200).sort_values('Date', ascending=False)"
   ]
  },
  {
   "cell_type": "code",
   "execution_count": 20,
   "metadata": {},
   "outputs": [],
   "source": [
    "MAY_2017_df = get_tweets(twitter_source, \n",
    "                     top_only = False,\n",
    "                     start_date = \"2017-05-01\", \n",
    "                     end_date = \"2017-06-01\",\n",
    "                    max_tweets = 3200).sort_values('Date', ascending=False)"
   ]
  },
  {
   "cell_type": "code",
   "execution_count": 21,
   "metadata": {},
   "outputs": [],
   "source": [
    "JUN_2017_df = get_tweets(twitter_source, \n",
    "                     top_only = False,\n",
    "                     start_date = \"2017-06-01\", \n",
    "                     end_date = \"2017-07-01\",\n",
    "                    max_tweets = 3200).sort_values('Date', ascending=False)"
   ]
  },
  {
   "cell_type": "code",
   "execution_count": 22,
   "metadata": {},
   "outputs": [],
   "source": [
    "JUL_2017_df = get_tweets(twitter_source, \n",
    "                     top_only = False,\n",
    "                     start_date = \"2017-07-01\", \n",
    "                     end_date = \"2017-08-01\",\n",
    "                    max_tweets = 3200).sort_values('Date', ascending=False)"
   ]
  },
  {
   "cell_type": "code",
   "execution_count": 23,
   "metadata": {},
   "outputs": [],
   "source": [
    "AUG_2017_df = get_tweets(twitter_source, \n",
    "                     top_only = False,\n",
    "                     start_date = \"2017-08-01\", \n",
    "                     end_date = \"2017-09-01\",\n",
    "                    max_tweets = 3200).sort_values('Date', ascending=False)"
   ]
  },
  {
   "cell_type": "code",
   "execution_count": 24,
   "metadata": {},
   "outputs": [],
   "source": [
    "SEP_2017_df = get_tweets(twitter_source, \n",
    "                     top_only = False,\n",
    "                     start_date = \"2017-09-01\", \n",
    "                     end_date = \"2017-10-01\",\n",
    "                    max_tweets = 3200).sort_values('Date', ascending=False)"
   ]
  },
  {
   "cell_type": "code",
   "execution_count": 25,
   "metadata": {},
   "outputs": [],
   "source": [
    "OCT_2017_df = get_tweets(twitter_source, \n",
    "                     top_only = False,\n",
    "                     start_date = \"2017-10-01\", \n",
    "                     end_date = \"2017-11-01\",\n",
    "                    max_tweets = 3200).sort_values('Date', ascending=False)"
   ]
  },
  {
   "cell_type": "code",
   "execution_count": 26,
   "metadata": {},
   "outputs": [],
   "source": [
    "NOV_2017_df = get_tweets(twitter_source, \n",
    "                     top_only = False,\n",
    "                     start_date = \"2017-11-01\", \n",
    "                     end_date = \"2017-12-01\",\n",
    "                    max_tweets = 3200).sort_values('Date', ascending=False)"
   ]
  },
  {
   "cell_type": "code",
   "execution_count": 27,
   "metadata": {},
   "outputs": [],
   "source": [
    "DEC_2017_df = get_tweets(twitter_source, \n",
    "                     top_only = False,\n",
    "                     start_date = \"2017-12-01\", \n",
    "                     end_date = \"2018-01-01\",\n",
    "                    max_tweets = 3200).sort_values('Date', ascending=False)"
   ]
  },
  {
   "cell_type": "code",
   "execution_count": 29,
   "metadata": {},
   "outputs": [],
   "source": [
    "JAN_2018_df = get_tweets(twitter_source, \n",
    "                     top_only = False,\n",
    "                     start_date = \"2018-01-01\", \n",
    "                     end_date = \"2018-02-01\",\n",
    "                    max_tweets = 3200).sort_values('Date', ascending=False)"
   ]
  },
  {
   "cell_type": "code",
   "execution_count": 30,
   "metadata": {},
   "outputs": [],
   "source": [
    "FEB_2018_df = get_tweets(twitter_source, \n",
    "                     top_only = False,\n",
    "                     start_date = \"2018-02-01\", \n",
    "                     end_date = \"2018-03-01\",\n",
    "                    max_tweets = 3200).sort_values('Date', ascending=False)"
   ]
  },
  {
   "cell_type": "code",
   "execution_count": 31,
   "metadata": {},
   "outputs": [],
   "source": [
    "MAR_2018_df = get_tweets(twitter_source, \n",
    "                     top_only = False,\n",
    "                     start_date = \"2018-03-01\", \n",
    "                     end_date = \"2018-04-01\",\n",
    "                    max_tweets = 3200).sort_values('Date', ascending=False)"
   ]
  },
  {
   "cell_type": "code",
   "execution_count": 32,
   "metadata": {},
   "outputs": [],
   "source": [
    "APR_2018_df = get_tweets(twitter_source, \n",
    "                     top_only = False,\n",
    "                     start_date = \"2018-04-01\", \n",
    "                     end_date = \"2018-05-01\",\n",
    "                    max_tweets = 3200).sort_values('Date', ascending=False)"
   ]
  },
  {
   "cell_type": "code",
   "execution_count": 33,
   "metadata": {},
   "outputs": [],
   "source": [
    "MAY_2018_df = get_tweets(twitter_source, \n",
    "                     top_only = False,\n",
    "                     start_date = \"2018-05-01\", \n",
    "                     end_date = \"2018-06-01\",\n",
    "                    max_tweets = 3200).sort_values('Date', ascending=False)"
   ]
  },
  {
   "cell_type": "code",
   "execution_count": 34,
   "metadata": {},
   "outputs": [],
   "source": [
    "JUN_2018_df = get_tweets(twitter_source, \n",
    "                     top_only = False,\n",
    "                     start_date = \"2018-06-01\", \n",
    "                     end_date = \"2018-07-01\",\n",
    "                    max_tweets = 3200).sort_values('Date', ascending=False)"
   ]
  },
  {
   "cell_type": "code",
   "execution_count": 35,
   "metadata": {},
   "outputs": [],
   "source": [
    "JUL_2018_df = get_tweets(twitter_source, \n",
    "                     top_only = False,\n",
    "                     start_date = \"2018-07-01\", \n",
    "                     end_date = \"2018-08-01\",\n",
    "                    max_tweets = 3200).sort_values('Date', ascending=False)"
   ]
  },
  {
   "cell_type": "code",
   "execution_count": 36,
   "metadata": {},
   "outputs": [],
   "source": [
    "AUG_2018_df = get_tweets(twitter_source, \n",
    "                     top_only = False,\n",
    "                     start_date = \"2018-08-01\", \n",
    "                     end_date = \"2018-09-01\",\n",
    "                    max_tweets = 3200).sort_values('Date', ascending=False)"
   ]
  },
  {
   "cell_type": "code",
   "execution_count": 37,
   "metadata": {},
   "outputs": [],
   "source": [
    "SEP_2018_df = get_tweets(twitter_source, \n",
    "                     top_only = False,\n",
    "                     start_date = \"2018-09-01\", \n",
    "                     end_date = \"2018-10-01\",\n",
    "                    max_tweets = 3200).sort_values('Date', ascending=False)"
   ]
  },
  {
   "cell_type": "code",
   "execution_count": 38,
   "metadata": {},
   "outputs": [],
   "source": [
    "OCT_2018_df = get_tweets(twitter_source, \n",
    "                     top_only = False,\n",
    "                     start_date = \"2018-10-01\", \n",
    "                     end_date = \"2018-11-01\",\n",
    "                    max_tweets = 3200).sort_values('Date', ascending=False)"
   ]
  },
  {
   "cell_type": "code",
   "execution_count": 39,
   "metadata": {},
   "outputs": [],
   "source": [
    "NOV_2018_df = get_tweets(twitter_source, \n",
    "                     top_only = False,\n",
    "                     start_date = \"2018-11-01\", \n",
    "                     end_date = \"2018-12-01\",\n",
    "                    max_tweets = 3200).sort_values('Date', ascending=False)"
   ]
  },
  {
   "cell_type": "code",
   "execution_count": 41,
   "metadata": {},
   "outputs": [],
   "source": [
    "DEC_2018_df = get_tweets(twitter_source, \n",
    "                     top_only = False,\n",
    "                     start_date = \"2018-12-01\", \n",
    "                     end_date = \"2019-01-01\",\n",
    "                    max_tweets = 3200).sort_values('Date', ascending=False)"
   ]
  },
  {
   "cell_type": "code",
   "execution_count": 42,
   "metadata": {},
   "outputs": [],
   "source": [
    "JAN_2019_df = get_tweets(twitter_source, \n",
    "                     top_only = False,\n",
    "                     start_date = \"2019-01-01\", \n",
    "                     end_date = \"2019-02-01\",\n",
    "                    max_tweets = 3200).sort_values('Date', ascending=False)"
   ]
  },
  {
   "cell_type": "code",
   "execution_count": 43,
   "metadata": {},
   "outputs": [],
   "source": [
    "FEB_2019_df = get_tweets(twitter_source, \n",
    "                     top_only = False,\n",
    "                     start_date = \"2019-02-01\", \n",
    "                     end_date = \"2019-03-01\",\n",
    "                    max_tweets = 3200).sort_values('Date', ascending=False)"
   ]
  },
  {
   "cell_type": "code",
   "execution_count": 44,
   "metadata": {},
   "outputs": [],
   "source": [
    "MAR_2019_df = get_tweets(twitter_source, \n",
    "                     top_only = False,\n",
    "                     start_date = \"2019-03-01\", \n",
    "                     end_date = \"2019-04-01\",\n",
    "                    max_tweets = 3200).sort_values('Date', ascending=False)"
   ]
  },
  {
   "cell_type": "code",
   "execution_count": 45,
   "metadata": {},
   "outputs": [],
   "source": [
    "APR_2019_df = get_tweets(twitter_source, \n",
    "                     top_only = False,\n",
    "                     start_date = \"2019-04-01\", \n",
    "                     end_date = \"2019-05-01\",\n",
    "                    max_tweets = 3200).sort_values('Date', ascending=False)"
   ]
  },
  {
   "cell_type": "code",
   "execution_count": 46,
   "metadata": {},
   "outputs": [],
   "source": [
    "MAY_2019_df = get_tweets(twitter_source, \n",
    "                     top_only = False,\n",
    "                     start_date = \"2019-05-01\", \n",
    "                     end_date = \"2019-06-01\",\n",
    "                    max_tweets = 3200).sort_values('Date', ascending=False)"
   ]
  },
  {
   "cell_type": "code",
   "execution_count": 47,
   "metadata": {},
   "outputs": [],
   "source": [
    "JUN_2019_df = get_tweets(twitter_source, \n",
    "                     top_only = False,\n",
    "                     start_date = \"2019-06-01\", \n",
    "                     end_date = \"2019-07-01\",\n",
    "                    max_tweets = 3200).sort_values('Date', ascending=False)"
   ]
  },
  {
   "cell_type": "code",
   "execution_count": 48,
   "metadata": {},
   "outputs": [],
   "source": [
    "JUL_2019_df = get_tweets(twitter_source, \n",
    "                     top_only = False,\n",
    "                     start_date = \"2019-07-01\", \n",
    "                     end_date = \"2019-08-01\",\n",
    "                    max_tweets = 3200).sort_values('Date', ascending=False)"
   ]
  },
  {
   "cell_type": "code",
   "execution_count": 49,
   "metadata": {},
   "outputs": [],
   "source": [
    "AUG_2019_df = get_tweets(twitter_source, \n",
    "                     top_only = False,\n",
    "                     start_date = \"2019-08-01\", \n",
    "                     end_date = \"2019-09-01\",\n",
    "                    max_tweets = 3200).sort_values('Date', ascending=False)"
   ]
  },
  {
   "cell_type": "code",
   "execution_count": 50,
   "metadata": {},
   "outputs": [],
   "source": [
    "SEP_2019_df = get_tweets(twitter_source, \n",
    "                     top_only = False,\n",
    "                     start_date = \"2019-09-01\", \n",
    "                     end_date = \"2019-10-01\",\n",
    "                    max_tweets = 3200).sort_values('Date', ascending=False)"
   ]
  },
  {
   "cell_type": "code",
   "execution_count": 51,
   "metadata": {},
   "outputs": [],
   "source": [
    "OCT_2019_df = get_tweets(twitter_source, \n",
    "                     top_only = False,\n",
    "                     start_date = \"2019-10-01\", \n",
    "                     end_date = \"2019-11-01\",\n",
    "                    max_tweets = 3200).sort_values('Date', ascending=False)"
   ]
  },
  {
   "cell_type": "code",
   "execution_count": 52,
   "metadata": {},
   "outputs": [],
   "source": [
    "NOV_2019_df = get_tweets(twitter_source, \n",
    "                     top_only = False,\n",
    "                     start_date = \"2019-11-01\", \n",
    "                     end_date = \"2019-12-01\",\n",
    "                    max_tweets = 3200).sort_values('Date', ascending=False)"
   ]
  },
  {
   "cell_type": "code",
   "execution_count": 53,
   "metadata": {},
   "outputs": [],
   "source": [
    "DEC_2019_df = get_tweets(twitter_source, \n",
    "                     top_only = False,\n",
    "                     start_date = \"2019-12-01\", \n",
    "                     end_date = \"2020-01-01\",\n",
    "                    max_tweets = 3200).sort_values('Date', ascending=False)"
   ]
  },
  {
   "cell_type": "code",
   "execution_count": null,
   "metadata": {},
   "outputs": [],
   "source": [
    "JAN_2020_df = get_tweets(twitter_source, \n",
    "                     top_only = False,\n",
    "                     start_date = \"2020-01-01\", \n",
    "                     end_date = \"2020-02-01\",\n",
    "                    max_tweets = 3200).sort_values('Date', ascending=False)"
   ]
  },
  {
   "cell_type": "code",
   "execution_count": null,
   "metadata": {},
   "outputs": [],
   "source": [
    "FEB_2020_df = get_tweets(twitter_source, \n",
    "                     top_only = False,\n",
    "                     start_date = \"2020-02-01\", \n",
    "                     end_date = \"2020-03-01\",\n",
    "                    max_tweets = 3200).sort_values('Date', ascending=False)"
   ]
  },
  {
   "cell_type": "code",
   "execution_count": null,
   "metadata": {},
   "outputs": [],
   "source": [
    "MAR_2020_df = get_tweets(twitter_source, \n",
    "                     top_only = False,\n",
    "                     start_date = \"2020-03-01\", \n",
    "                     end_date = \"2020-04-01\",\n",
    "                    max_tweets = 3200).sort_values('Date', ascending=False)"
   ]
  },
  {
   "cell_type": "code",
   "execution_count": null,
   "metadata": {},
   "outputs": [],
   "source": [
    "APR_2020_df = get_tweets(twitter_source, \n",
    "                     top_only = False,\n",
    "                     start_date = \"2020-04-01\", \n",
    "                     end_date = \"2020-05-01\",\n",
    "                    max_tweets = 3200).sort_values('Date', ascending=False)"
   ]
  },
  {
   "cell_type": "code",
   "execution_count": null,
   "metadata": {},
   "outputs": [],
   "source": [
    "MAY_2020_df = get_tweets(twitter_source, \n",
    "                     top_only = False,\n",
    "                     start_date = \"2020-05-01\", \n",
    "                     end_date = \"2020-06-01\",\n",
    "                    max_tweets = 3200).sort_values('Date', ascending=False)"
   ]
  },
  {
   "cell_type": "code",
   "execution_count": null,
   "metadata": {},
   "outputs": [],
   "source": [
    "JUN_2020_df = get_tweets(twitter_source, \n",
    "                     top_only = False,\n",
    "                     start_date = \"2020-06-01\", \n",
    "                     end_date = \"2020-07-01\",\n",
    "                    max_tweets = 3200).sort_values('Date', ascending=False)"
   ]
  },
  {
   "cell_type": "code",
   "execution_count": null,
   "metadata": {},
   "outputs": [],
   "source": [
    "JUL_2020_df = get_tweets(twitter_source, \n",
    "                     top_only = False,\n",
    "                     start_date = \"2020-07-01\", \n",
    "                     end_date = \"2020-08-01\",\n",
    "                    max_tweets = 3200).sort_values('Date', ascending=False)"
   ]
  },
  {
   "cell_type": "code",
   "execution_count": null,
   "metadata": {},
   "outputs": [],
   "source": [
    "AUG_2020_df = get_tweets(twitter_source, \n",
    "                     top_only = False,\n",
    "                     start_date = \"2020-08-01\", \n",
    "                     end_date = \"2020-09-01\",\n",
    "                    max_tweets = 3200).sort_values('Date', ascending=False)"
   ]
  },
  {
   "cell_type": "code",
   "execution_count": null,
   "metadata": {},
   "outputs": [],
   "source": [
    "SEP_2020_df = get_tweets(twitter_source, \n",
    "                     top_only = False,\n",
    "                     start_date = \"2020-09-01\", \n",
    "                     end_date = \"2020-10-01\",\n",
    "                    max_tweets = 3200).sort_values('Date', ascending=False)"
   ]
  },
  {
   "cell_type": "code",
   "execution_count": null,
   "metadata": {},
   "outputs": [],
   "source": [
    "OCT_2020_df = get_tweets(twitter_source, \n",
    "                     top_only = False,\n",
    "                     start_date = \"2020-10-01\", \n",
    "                     end_date = \"2020-11-01\",\n",
    "                    max_tweets = 3200).sort_values('Date', ascending=False)"
   ]
  },
  {
   "cell_type": "code",
   "execution_count": null,
   "metadata": {},
   "outputs": [],
   "source": [
    "NOV_2020_df = get_tweets(twitter_source, \n",
    "                     top_only = False,\n",
    "                     start_date = \"2020-11-01\", \n",
    "                     end_date = \"2020-12-01\",\n",
    "                    max_tweets = 3200).sort_values('Date', ascending=False)"
   ]
  },
  {
   "cell_type": "code",
   "execution_count": null,
   "metadata": {},
   "outputs": [],
   "source": [
    "DEC_2020_df = get_tweets(twitter_source, \n",
    "                     top_only = False,\n",
    "                     start_date = \"2020-12-01\", \n",
    "                     end_date = \"2021-01-01\",\n",
    "                    max_tweets = 3200).sort_values('Date', ascending=False)"
   ]
  },
  {
   "cell_type": "code",
   "execution_count": 54,
   "metadata": {},
   "outputs": [],
   "source": [
    "frames = [JAN_2016_df, FEB_2016_df, MAR_2016_df, APR_2016_df, MAY_2016_df, JUN_2016_df, JUL_2016_df, AUG_2016_df, \n",
    "          SEP_2016_df, OCT_2016_df, NOV_2016_df, DEC_2016_df, JAN_2017_df, FEB_2017_df, MAR_2017_df, APR_2017_df, \n",
    "          MAY_2017_df, JUN_2017_df, JUL_2017_df, AUG_2017_df, SEP_2017_df, OCT_2017_df, NOV_2017_df, DEC_2017_df,\n",
    "          JAN_2018_df, FEB_2018_df, MAR_2018_df, APR_2018_df, MAY_2018_df, JUN_2018_df, JUL_2018_df, AUG_2018_df,\n",
    "          SEP_2018_df, OCT_2018_df, NOV_2018_df, DEC_2018_df,\n",
    "          JAN_2019_df, FEB_2019_df, MAR_2019_df, APR_2019_df, MAY_2019_df, JUN_2019_df, JUL_2019_df, AUG_2019_df, \n",
    "          SEP_2019_df, OCT_2019_df, NOV_2019_df, DEC_2019_df]#, \n",
    "          #JAN_2020_df, FEB_2020_df, MAR_2020_df, APR_2020_df, MAY_2020_df, JUN_2020_df, JUL_2020_df, AUG_2020_df, \n",
    "          #SEP_2020_df, OCT_2020_df, NOV_2020_df, DEC_2020_df]"
   ]
  },
  {
   "cell_type": "code",
   "execution_count": 55,
   "metadata": {},
   "outputs": [],
   "source": [
    "result = pd.concat(frames)"
   ]
  },
  {
   "cell_type": "code",
   "execution_count": null,
   "metadata": {},
   "outputs": [],
   "source": [
    "result.to_csv('bna_ar_Tweets1.csv', encoding = 'utf-8-sig')"
   ]
  },
  {
   "cell_type": "code",
   "execution_count": 56,
   "metadata": {},
   "outputs": [],
   "source": [
    "# Converts the 'Date' column to a string and removes its associated time\n",
    "# Code source from: https://stackoverflow.com/questions/28694025/converting-a-datetime-column-back-to-a-string-columns-pandas-python\n",
    "result['Date'] = result['Date'].dt.strftime('%Y-%m-%d')\n",
    "\n",
    "# Aggregates the total number of times tweets are favorited or retweeted\n",
    "favorites_retweets_count = result.groupby('Date').sum()\n",
    "\n",
    "# Aggregates the total number of posts by a uer\n",
    "total_post_count = result.groupby('Date').count()\n",
    "\n",
    "# Assigns a user handle to the dataframe\n",
    "favorites_retweets_count['Handle'] = result.iloc[0,0]\n",
    "\n",
    "# Assigns total post count to the dataframe\n",
    "favorites_retweets_count['Total Posts'] = total_post_count['User']\n",
    "\n",
    "# Rearrange the column headers and assign to a new dataframe\n",
    "final_twitter_df = favorites_retweets_count[['Handle', 'Total Posts', 'Favorites', 'Retweets']]"
   ]
  },
  {
   "cell_type": "code",
   "execution_count": 57,
   "metadata": {},
   "outputs": [],
   "source": [
    "final_twitter_df.to_csv('BBCArabic_counts.csv')"
   ]
  },
  {
   "cell_type": "code",
   "execution_count": null,
   "metadata": {},
   "outputs": [],
   "source": []
  },
  {
   "cell_type": "code",
   "execution_count": null,
   "metadata": {},
   "outputs": [],
   "source": []
  },
  {
   "cell_type": "markdown",
   "metadata": {},
   "source": [
    "Validation Sample"
   ]
  },
  {
   "cell_type": "code",
   "execution_count": null,
   "metadata": {},
   "outputs": [],
   "source": [
    "JAN_2021_df = get_tweets('Alwafa_Party', \n",
    "                     top_only = False,\n",
    "                     start_date = \"2020-01-01\", \n",
    "                     end_date = \"2020-02-01\",\n",
    "                    max_tweets = 3200).sort_values('Date', ascending=False)"
   ]
  },
  {
   "cell_type": "code",
   "execution_count": null,
   "metadata": {},
   "outputs": [],
   "source": [
    "JAN_2021_df.to_csv('DurazYouth_JAN2021_Tweets.csv', encoding = 'utf-8-sig')"
   ]
  },
  {
   "cell_type": "code",
   "execution_count": null,
   "metadata": {},
   "outputs": [],
   "source": [
    "# Converts the 'Date' column to a string and removes its associated time\n",
    "# Code source from: https://stackoverflow.com/questions/28694025/converting-a-datetime-column-back-to-a-string-columns-pandas-python\n",
    "JAN_2021_df['Date'] = JAN_2021_df['Date'].dt.strftime('%Y-%m-%d')\n",
    "\n",
    "# Aggregates the total number of times tweets are favorited or retweeted\n",
    "favorites_retweets_count = JAN_2021_df.groupby('Date').sum()\n",
    "\n",
    "# Aggregates the total number of posts by a uer\n",
    "total_post_count = JAN_2021_df.groupby('Date').count()\n",
    "\n",
    "# Assigns a user handle to the dataframe\n",
    "favorites_retweets_count['Handle'] = JAN_2021_df.iloc[0,0]\n",
    "\n",
    "# Assigns total post count to the dataframe\n",
    "favorites_retweets_count['Total Posts'] = total_post_count['User']\n",
    "\n",
    "# Rearrange the column headers and assign to a new dataframe\n",
    "final_twitter_df = favorites_retweets_count[['Handle', 'Total Posts', 'Favorites', 'Retweets']]"
   ]
  },
  {
   "cell_type": "code",
   "execution_count": null,
   "metadata": {},
   "outputs": [],
   "source": [
    "final_twitter_df.to_csv('Alwafa_Party_JAN2020_counts.csv')"
   ]
  },
  {
   "cell_type": "code",
   "execution_count": null,
   "metadata": {},
   "outputs": [],
   "source": []
  }
 ],
 "metadata": {
  "kernelspec": {
   "display_name": "Python 3",
   "language": "python",
   "name": "python3"
  },
  "language_info": {
   "codemirror_mode": {
    "name": "ipython",
    "version": 3
   },
   "file_extension": ".py",
   "mimetype": "text/x-python",
   "name": "python",
   "nbconvert_exporter": "python",
   "pygments_lexer": "ipython3",
   "version": "3.8.3"
  }
 },
 "nbformat": 4,
 "nbformat_minor": 2
}
